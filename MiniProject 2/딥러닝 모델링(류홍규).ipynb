{
 "cells": [
  {
   "cell_type": "markdown",
   "source": [
    "## 데이터 불러오기"
   ],
   "metadata": {
    "collapsed": false
   }
  },
  {
   "cell_type": "code",
   "execution_count": 1,
   "outputs": [],
   "source": [
    "import pandas as pd"
   ],
   "metadata": {
    "collapsed": false
   }
  },
  {
   "cell_type": "code",
   "execution_count": 3,
   "outputs": [],
   "source": [
    "data = pd.read_csv('./data_eda02_final.csv')\n",
    "data.drop('Unnamed: 0', axis=1, inplace=True)"
   ],
   "metadata": {
    "collapsed": false
   }
  },
  {
   "cell_type": "code",
   "execution_count": 4,
   "outputs": [
    {
     "data": {
      "text/plain": "((1239, 11), (1239,))"
     },
     "execution_count": 4,
     "metadata": {},
     "output_type": "execute_result"
    }
   ],
   "source": [
    "from tensorflow.keras.utils import to_categorical\n",
    "from sklearn.model_selection import train_test_split\n",
    "import numpy as np\n",
    "\n",
    "target = 'label'\n",
    "x = data.drop(target, axis=1)\n",
    "y = data.loc[:, target]\n",
    "x.shape, y.shape"
   ],
   "metadata": {
    "collapsed": false
   }
  },
  {
   "cell_type": "code",
   "execution_count": 5,
   "outputs": [],
   "source": [
    "ohe_y = to_categorical(y, 2)"
   ],
   "metadata": {
    "collapsed": false
   }
  },
  {
   "cell_type": "markdown",
   "source": [
    "### (1) Functional API로 모델 만들기"
   ],
   "metadata": {
    "collapsed": false
   }
  },
  {
   "cell_type": "code",
   "execution_count": 6,
   "metadata": {
    "collapsed": true
   },
   "outputs": [],
   "source": [
    "from tensorflow.keras.backend import clear_session\n",
    "from tensorflow.keras.layers import Layer, Input, Flatten, Dense\n",
    "from tensorflow.keras.models import Model\n",
    "from tensorflow.keras.utils import plot_model\n",
    "import tensorflow as tf\n",
    "\n",
    "INPUT_SIZE= 11\n",
    "def create_model():\n",
    "    clear_session()\n",
    "    input_tensor = Input(shape=(INPUT_SIZE, ))\n",
    "    x = Flatten()(input_tensor)\n",
    "    x = Dense(128, activation='relu')(x)\n",
    "    x = Dense(32, activation='relu')(x)\n",
    "    output = Dense(2, activation='sigmoid')(x)\n",
    "\n",
    "    model = Model(input_tensor, output)\n",
    "    return model"
   ]
  },
  {
   "cell_type": "code",
   "execution_count": 7,
   "outputs": [
    {
     "name": "stdout",
     "output_type": "stream",
     "text": [
      "Model: \"model\"\n",
      "_________________________________________________________________\n",
      " Layer (type)                Output Shape              Param #   \n",
      "=================================================================\n",
      " input_1 (InputLayer)        [(None, 11)]              0         \n",
      "                                                                 \n",
      " flatten (Flatten)           (None, 11)                0         \n",
      "                                                                 \n",
      " dense (Dense)               (None, 128)               1536      \n",
      "                                                                 \n",
      " dense_1 (Dense)             (None, 32)                4128      \n",
      "                                                                 \n",
      " dense_2 (Dense)             (None, 2)                 66        \n",
      "                                                                 \n",
      "=================================================================\n",
      "Total params: 5,730\n",
      "Trainable params: 5,730\n",
      "Non-trainable params: 0\n",
      "_________________________________________________________________\n"
     ]
    }
   ],
   "source": [
    "# test\n",
    "model = create_model()\n",
    "model.summary()"
   ],
   "metadata": {
    "collapsed": false
   }
  },
  {
   "cell_type": "markdown",
   "source": [
    "### train, test데이터 분리"
   ],
   "metadata": {
    "collapsed": false
   }
  },
  {
   "cell_type": "code",
   "execution_count": 8,
   "outputs": [],
   "source": [
    "from sklearn.model_selection import train_test_split\n",
    "x_train, x_test, y_train, y_test = train_test_split(x, ohe_y, test_size=0.3, random_state=2023)"
   ],
   "metadata": {
    "collapsed": false
   }
  },
  {
   "cell_type": "code",
   "execution_count": 9,
   "outputs": [
    {
     "name": "stdout",
     "output_type": "stream",
     "text": [
      "x_train.shape:  (867, 11)\n",
      "y_train.shape:  (867, 2)\n",
      "x_test.shape:  (372, 11)\n",
      "y_test.shape:  (372, 2)\n"
     ]
    }
   ],
   "source": [
    "print(f'x_train.shape: ', x_train.shape)\n",
    "print(f'y_train.shape: ', y_train.shape)\n",
    "print(f'x_test.shape: ', x_test.shape)\n",
    "print(f'y_test.shape: ', y_test.shape)"
   ],
   "metadata": {
    "collapsed": false
   }
  },
  {
   "cell_type": "markdown",
   "source": [
    "### 모델 생성과 compile"
   ],
   "metadata": {
    "collapsed": false
   }
  },
  {
   "cell_type": "code",
   "execution_count": 10,
   "outputs": [
    {
     "name": "stdout",
     "output_type": "stream",
     "text": [
      "Model: \"model\"\n",
      "_________________________________________________________________\n",
      " Layer (type)                Output Shape              Param #   \n",
      "=================================================================\n",
      " input_1 (InputLayer)        [(None, 11)]              0         \n",
      "                                                                 \n",
      " flatten (Flatten)           (None, 11)                0         \n",
      "                                                                 \n",
      " dense (Dense)               (None, 128)               1536      \n",
      "                                                                 \n",
      " dense_1 (Dense)             (None, 32)                4128      \n",
      "                                                                 \n",
      " dense_2 (Dense)             (None, 2)                 66        \n",
      "                                                                 \n",
      "=================================================================\n",
      "Total params: 5,730\n",
      "Trainable params: 5,730\n",
      "Non-trainable params: 0\n",
      "_________________________________________________________________\n"
     ]
    }
   ],
   "source": [
    "from tensorflow.keras.optimizers import Adam\n",
    "\n",
    "model = create_model()\n",
    "model.summary()\n",
    "model.compile(optimizer=Adam(0.001), loss='binary_crossentropy',\n",
    "              metrics=['accuracy'])"
   ],
   "metadata": {
    "collapsed": false
   }
  },
  {
   "cell_type": "code",
   "execution_count": 14,
   "outputs": [
    {
     "name": "stdout",
     "output_type": "stream",
     "text": [
      "Requirement already satisfied: pydot in c:\\users\\minsu\\anaconda3\\envs\\deeplearning\\lib\\site-packages (1.4.2)\n",
      "Requirement already satisfied: pyparsing>=2.1.4 in c:\\users\\minsu\\anaconda3\\envs\\deeplearning\\lib\\site-packages (from pydot) (3.0.9)\n",
      "Requirement already satisfied: graphviz in c:\\users\\minsu\\anaconda3\\envs\\deeplearning\\lib\\site-packages (0.20.1)\n"
     ]
    }
   ],
   "source": [
    "!pip install pydot\n",
    "!pip install graphviz"
   ],
   "metadata": {
    "collapsed": false
   }
  },
  {
   "cell_type": "code",
   "execution_count": 15,
   "outputs": [
    {
     "name": "stdout",
     "output_type": "stream",
     "text": [
      "You must install pydot (`pip install pydot`) and install graphviz (see instructions at https://graphviz.gitlab.io/download/) for plot_model to work.\n"
     ]
    }
   ],
   "source": [
    "plot_model(model, show_shapes=True)"
   ],
   "metadata": {
    "collapsed": false
   }
  },
  {
   "cell_type": "code",
   "execution_count": 16,
   "outputs": [
    {
     "name": "stdout",
     "output_type": "stream",
     "text": [
      "Epoch 1/100\n",
      "22/22 [==============================] - 1s 14ms/step - loss: 0.7715 - accuracy: 0.6768 - val_loss: 0.5176 - val_accuracy: 0.7356\n",
      "Epoch 2/100\n",
      "22/22 [==============================] - 0s 3ms/step - loss: 0.4578 - accuracy: 0.7864 - val_loss: 0.4483 - val_accuracy: 0.8103\n",
      "Epoch 3/100\n",
      "22/22 [==============================] - 0s 3ms/step - loss: 0.4218 - accuracy: 0.7951 - val_loss: 0.3801 - val_accuracy: 0.8448\n",
      "Epoch 4/100\n",
      "22/22 [==============================] - 0s 3ms/step - loss: 0.3543 - accuracy: 0.8644 - val_loss: 0.3367 - val_accuracy: 0.8851\n",
      "Epoch 5/100\n",
      "22/22 [==============================] - 0s 3ms/step - loss: 0.3346 - accuracy: 0.8716 - val_loss: 0.3171 - val_accuracy: 0.8621\n",
      "Epoch 6/100\n",
      "22/22 [==============================] - 0s 3ms/step - loss: 0.3023 - accuracy: 0.8817 - val_loss: 0.2882 - val_accuracy: 0.8966\n",
      "Epoch 7/100\n",
      "22/22 [==============================] - 0s 3ms/step - loss: 0.2740 - accuracy: 0.9091 - val_loss: 0.2717 - val_accuracy: 0.8966\n",
      "Epoch 8/100\n",
      "22/22 [==============================] - 0s 3ms/step - loss: 0.2615 - accuracy: 0.9062 - val_loss: 0.2582 - val_accuracy: 0.9080\n",
      "Epoch 9/100\n",
      "22/22 [==============================] - 0s 3ms/step - loss: 0.2410 - accuracy: 0.9091 - val_loss: 0.2310 - val_accuracy: 0.9253\n",
      "Epoch 10/100\n",
      "22/22 [==============================] - 0s 3ms/step - loss: 0.2217 - accuracy: 0.9278 - val_loss: 0.2121 - val_accuracy: 0.9368\n",
      "Epoch 11/100\n",
      "22/22 [==============================] - 0s 3ms/step - loss: 0.2088 - accuracy: 0.9351 - val_loss: 0.2186 - val_accuracy: 0.9540\n",
      "Epoch 12/100\n",
      "22/22 [==============================] - 0s 3ms/step - loss: 0.2023 - accuracy: 0.9250 - val_loss: 0.2069 - val_accuracy: 0.9368\n",
      "Epoch 13/100\n",
      "22/22 [==============================] - 0s 3ms/step - loss: 0.1973 - accuracy: 0.9307 - val_loss: 0.1892 - val_accuracy: 0.9483\n",
      "Epoch 14/100\n",
      "22/22 [==============================] - 0s 3ms/step - loss: 0.1836 - accuracy: 0.9408 - val_loss: 0.2408 - val_accuracy: 0.9368\n",
      "Epoch 15/100\n",
      "22/22 [==============================] - 0s 2ms/step - loss: 0.1787 - accuracy: 0.9423 - val_loss: 0.1862 - val_accuracy: 0.9425\n",
      "Epoch 16/100\n",
      "22/22 [==============================] - 0s 2ms/step - loss: 0.2059 - accuracy: 0.9177 - val_loss: 0.2115 - val_accuracy: 0.9483\n",
      "Epoch 17/100\n",
      "22/22 [==============================] - 0s 3ms/step - loss: 0.2127 - accuracy: 0.9062 - val_loss: 0.1803 - val_accuracy: 0.9540\n",
      "Epoch 18/100\n",
      "22/22 [==============================] - 0s 3ms/step - loss: 0.1732 - accuracy: 0.9322 - val_loss: 0.1671 - val_accuracy: 0.9655\n",
      "Epoch 19/100\n",
      "22/22 [==============================] - 0s 3ms/step - loss: 0.1752 - accuracy: 0.9264 - val_loss: 0.1621 - val_accuracy: 0.9598\n",
      "Epoch 20/100\n",
      "22/22 [==============================] - 0s 2ms/step - loss: 0.1705 - accuracy: 0.9365 - val_loss: 0.1747 - val_accuracy: 0.9598\n",
      "Epoch 21/100\n",
      "22/22 [==============================] - 0s 2ms/step - loss: 0.1501 - accuracy: 0.9509 - val_loss: 0.1719 - val_accuracy: 0.9425\n",
      "Epoch 22/100\n",
      "22/22 [==============================] - 0s 2ms/step - loss: 0.1675 - accuracy: 0.9423 - val_loss: 0.1628 - val_accuracy: 0.9598\n",
      "Epoch 23/100\n",
      "22/22 [==============================] - 0s 2ms/step - loss: 0.1619 - accuracy: 0.9293 - val_loss: 0.1684 - val_accuracy: 0.9540\n",
      "Epoch 24/100\n",
      "22/22 [==============================] - 0s 2ms/step - loss: 0.1431 - accuracy: 0.9538 - val_loss: 0.1596 - val_accuracy: 0.9598\n",
      "Epoch 25/100\n",
      "22/22 [==============================] - 0s 3ms/step - loss: 0.1418 - accuracy: 0.9466 - val_loss: 0.1772 - val_accuracy: 0.9540\n",
      "Epoch 26/100\n",
      "22/22 [==============================] - 0s 2ms/step - loss: 0.1372 - accuracy: 0.9481 - val_loss: 0.1566 - val_accuracy: 0.9598\n",
      "Epoch 27/100\n",
      "22/22 [==============================] - 0s 2ms/step - loss: 0.1373 - accuracy: 0.9466 - val_loss: 0.1557 - val_accuracy: 0.9598\n",
      "Epoch 28/100\n",
      "22/22 [==============================] - 0s 3ms/step - loss: 0.1441 - accuracy: 0.9466 - val_loss: 0.1529 - val_accuracy: 0.9598\n",
      "Epoch 29/100\n",
      "22/22 [==============================] - 0s 3ms/step - loss: 0.1324 - accuracy: 0.9567 - val_loss: 0.1563 - val_accuracy: 0.9540\n",
      "Epoch 30/100\n",
      "22/22 [==============================] - 0s 3ms/step - loss: 0.1349 - accuracy: 0.9509 - val_loss: 0.1587 - val_accuracy: 0.9655\n",
      "Epoch 31/100\n",
      "22/22 [==============================] - 0s 3ms/step - loss: 0.1265 - accuracy: 0.9567 - val_loss: 0.1531 - val_accuracy: 0.9483\n",
      "Epoch 32/100\n",
      "22/22 [==============================] - 0s 3ms/step - loss: 0.1262 - accuracy: 0.9538 - val_loss: 0.1566 - val_accuracy: 0.9540\n",
      "Epoch 33/100\n",
      "22/22 [==============================] - 0s 3ms/step - loss: 0.1419 - accuracy: 0.9495 - val_loss: 0.1918 - val_accuracy: 0.9483\n",
      "Epoch 34/100\n",
      "22/22 [==============================] - 0s 3ms/step - loss: 0.1485 - accuracy: 0.9466 - val_loss: 0.1524 - val_accuracy: 0.9655\n",
      "Epoch 35/100\n",
      "22/22 [==============================] - 0s 3ms/step - loss: 0.1443 - accuracy: 0.9437 - val_loss: 0.1487 - val_accuracy: 0.9655\n",
      "Epoch 36/100\n",
      "22/22 [==============================] - 0s 3ms/step - loss: 0.1198 - accuracy: 0.9582 - val_loss: 0.1721 - val_accuracy: 0.9540\n",
      "Epoch 37/100\n",
      "22/22 [==============================] - 0s 3ms/step - loss: 0.1143 - accuracy: 0.9582 - val_loss: 0.1496 - val_accuracy: 0.9540\n",
      "Epoch 38/100\n",
      "22/22 [==============================] - 0s 3ms/step - loss: 0.1162 - accuracy: 0.9625 - val_loss: 0.1538 - val_accuracy: 0.9598\n",
      "Epoch 39/100\n",
      "22/22 [==============================] - 0s 3ms/step - loss: 0.1228 - accuracy: 0.9582 - val_loss: 0.1507 - val_accuracy: 0.9540\n",
      "Epoch 40/100\n",
      "22/22 [==============================] - 0s 3ms/step - loss: 0.1299 - accuracy: 0.9538 - val_loss: 0.1631 - val_accuracy: 0.9655\n",
      "Epoch 41/100\n",
      "22/22 [==============================] - 0s 3ms/step - loss: 0.1222 - accuracy: 0.9481 - val_loss: 0.2166 - val_accuracy: 0.9310\n",
      "Epoch 42/100\n",
      "22/22 [==============================] - 0s 3ms/step - loss: 0.1458 - accuracy: 0.9509 - val_loss: 0.1485 - val_accuracy: 0.9598\n",
      "Epoch 43/100\n",
      "22/22 [==============================] - 0s 3ms/step - loss: 0.1100 - accuracy: 0.9610 - val_loss: 0.1679 - val_accuracy: 0.9425\n",
      "Epoch 44/100\n",
      "22/22 [==============================] - 0s 3ms/step - loss: 0.1246 - accuracy: 0.9553 - val_loss: 0.2313 - val_accuracy: 0.9425\n",
      "Epoch 45/100\n",
      "22/22 [==============================] - 0s 3ms/step - loss: 0.1243 - accuracy: 0.9524 - val_loss: 0.1552 - val_accuracy: 0.9483\n",
      "Epoch 46/100\n",
      "22/22 [==============================] - 0s 3ms/step - loss: 0.1099 - accuracy: 0.9538 - val_loss: 0.1514 - val_accuracy: 0.9655\n",
      "Epoch 47/100\n",
      "22/22 [==============================] - 0s 3ms/step - loss: 0.1157 - accuracy: 0.9567 - val_loss: 0.1887 - val_accuracy: 0.9310\n",
      "Epoch 48/100\n",
      "22/22 [==============================] - 0s 3ms/step - loss: 0.1806 - accuracy: 0.9408 - val_loss: 0.2159 - val_accuracy: 0.9483\n",
      "Epoch 49/100\n",
      "22/22 [==============================] - 0s 3ms/step - loss: 0.1125 - accuracy: 0.9553 - val_loss: 0.1763 - val_accuracy: 0.9540\n",
      "Epoch 50/100\n",
      "22/22 [==============================] - 0s 3ms/step - loss: 0.1132 - accuracy: 0.9582 - val_loss: 0.1577 - val_accuracy: 0.9598\n",
      "Epoch 51/100\n",
      "22/22 [==============================] - 0s 3ms/step - loss: 0.1148 - accuracy: 0.9596 - val_loss: 0.1897 - val_accuracy: 0.9483\n",
      "Epoch 52/100\n",
      "22/22 [==============================] - 0s 3ms/step - loss: 0.1114 - accuracy: 0.9596 - val_loss: 0.1490 - val_accuracy: 0.9655\n",
      "Epoch 53/100\n",
      "22/22 [==============================] - 0s 3ms/step - loss: 0.1155 - accuracy: 0.9524 - val_loss: 0.1835 - val_accuracy: 0.9540\n",
      "Epoch 54/100\n",
      "22/22 [==============================] - 0s 3ms/step - loss: 0.1382 - accuracy: 0.9408 - val_loss: 0.1536 - val_accuracy: 0.9598\n",
      "Epoch 55/100\n",
      "22/22 [==============================] - 0s 3ms/step - loss: 0.1072 - accuracy: 0.9610 - val_loss: 0.1944 - val_accuracy: 0.9483\n",
      "Epoch 56/100\n",
      "22/22 [==============================] - 0s 3ms/step - loss: 0.1026 - accuracy: 0.9596 - val_loss: 0.2126 - val_accuracy: 0.9540\n",
      "Epoch 57/100\n",
      "22/22 [==============================] - 0s 3ms/step - loss: 0.1178 - accuracy: 0.9509 - val_loss: 0.1857 - val_accuracy: 0.9540\n",
      "Epoch 58/100\n",
      "22/22 [==============================] - 0s 3ms/step - loss: 0.1106 - accuracy: 0.9567 - val_loss: 0.1515 - val_accuracy: 0.9540\n",
      "Epoch 59/100\n",
      "22/22 [==============================] - 0s 3ms/step - loss: 0.1043 - accuracy: 0.9596 - val_loss: 0.1497 - val_accuracy: 0.9713\n",
      "Epoch 60/100\n",
      "22/22 [==============================] - 0s 3ms/step - loss: 0.1294 - accuracy: 0.9509 - val_loss: 0.1655 - val_accuracy: 0.9655\n",
      "Epoch 61/100\n",
      "22/22 [==============================] - 0s 3ms/step - loss: 0.1027 - accuracy: 0.9596 - val_loss: 0.1504 - val_accuracy: 0.9598\n",
      "Epoch 62/100\n",
      "22/22 [==============================] - 0s 3ms/step - loss: 0.0922 - accuracy: 0.9668 - val_loss: 0.1854 - val_accuracy: 0.9483\n",
      "Epoch 63/100\n",
      "22/22 [==============================] - 0s 3ms/step - loss: 0.1069 - accuracy: 0.9610 - val_loss: 0.1481 - val_accuracy: 0.9713\n",
      "Epoch 64/100\n",
      "22/22 [==============================] - 0s 3ms/step - loss: 0.0986 - accuracy: 0.9654 - val_loss: 0.1749 - val_accuracy: 0.9540\n",
      "Epoch 65/100\n",
      "22/22 [==============================] - 0s 3ms/step - loss: 0.1072 - accuracy: 0.9538 - val_loss: 0.1688 - val_accuracy: 0.9483\n",
      "Epoch 66/100\n",
      "22/22 [==============================] - 0s 3ms/step - loss: 0.0993 - accuracy: 0.9610 - val_loss: 0.1471 - val_accuracy: 0.9540\n",
      "Epoch 67/100\n",
      "22/22 [==============================] - 0s 3ms/step - loss: 0.0961 - accuracy: 0.9625 - val_loss: 0.1564 - val_accuracy: 0.9540\n",
      "Epoch 68/100\n",
      "22/22 [==============================] - 0s 3ms/step - loss: 0.1084 - accuracy: 0.9639 - val_loss: 0.1548 - val_accuracy: 0.9598\n",
      "Epoch 69/100\n",
      "22/22 [==============================] - 0s 3ms/step - loss: 0.1132 - accuracy: 0.9553 - val_loss: 0.1466 - val_accuracy: 0.9655\n",
      "Epoch 70/100\n",
      "22/22 [==============================] - 0s 3ms/step - loss: 0.0864 - accuracy: 0.9683 - val_loss: 0.1371 - val_accuracy: 0.9713\n",
      "Epoch 71/100\n",
      "22/22 [==============================] - 0s 3ms/step - loss: 0.0902 - accuracy: 0.9697 - val_loss: 0.1572 - val_accuracy: 0.9540\n",
      "Epoch 72/100\n",
      "22/22 [==============================] - 0s 4ms/step - loss: 0.0924 - accuracy: 0.9596 - val_loss: 0.1420 - val_accuracy: 0.9598\n",
      "Epoch 73/100\n",
      "22/22 [==============================] - 0s 3ms/step - loss: 0.0895 - accuracy: 0.9639 - val_loss: 0.1776 - val_accuracy: 0.9425\n",
      "Epoch 74/100\n",
      "22/22 [==============================] - 0s 4ms/step - loss: 0.0991 - accuracy: 0.9610 - val_loss: 0.1562 - val_accuracy: 0.9598\n",
      "Epoch 75/100\n",
      "22/22 [==============================] - 0s 4ms/step - loss: 0.0866 - accuracy: 0.9683 - val_loss: 0.1441 - val_accuracy: 0.9598\n",
      "Epoch 76/100\n",
      "22/22 [==============================] - 0s 3ms/step - loss: 0.0830 - accuracy: 0.9668 - val_loss: 0.1441 - val_accuracy: 0.9713\n",
      "Epoch 77/100\n",
      "22/22 [==============================] - 0s 3ms/step - loss: 0.0900 - accuracy: 0.9668 - val_loss: 0.1445 - val_accuracy: 0.9713\n",
      "Epoch 78/100\n",
      "22/22 [==============================] - 0s 3ms/step - loss: 0.0842 - accuracy: 0.9610 - val_loss: 0.1497 - val_accuracy: 0.9655\n",
      "Epoch 79/100\n",
      "22/22 [==============================] - 0s 3ms/step - loss: 0.0830 - accuracy: 0.9668 - val_loss: 0.1485 - val_accuracy: 0.9655\n",
      "Epoch 80/100\n",
      "22/22 [==============================] - 0s 3ms/step - loss: 0.0776 - accuracy: 0.9654 - val_loss: 0.2247 - val_accuracy: 0.9195\n",
      "Epoch 81/100\n",
      "22/22 [==============================] - 0s 3ms/step - loss: 0.1242 - accuracy: 0.9481 - val_loss: 0.1542 - val_accuracy: 0.9655\n",
      "Epoch 82/100\n",
      "22/22 [==============================] - 0s 3ms/step - loss: 0.0849 - accuracy: 0.9683 - val_loss: 0.1554 - val_accuracy: 0.9598\n",
      "Epoch 83/100\n",
      "22/22 [==============================] - 0s 3ms/step - loss: 0.0902 - accuracy: 0.9625 - val_loss: 0.2000 - val_accuracy: 0.9598\n",
      "Epoch 84/100\n",
      "22/22 [==============================] - 0s 3ms/step - loss: 0.1039 - accuracy: 0.9654 - val_loss: 0.1643 - val_accuracy: 0.9655\n",
      "Epoch 85/100\n",
      "22/22 [==============================] - 0s 3ms/step - loss: 0.0889 - accuracy: 0.9683 - val_loss: 0.1364 - val_accuracy: 0.9655\n",
      "Epoch 86/100\n",
      "22/22 [==============================] - 0s 3ms/step - loss: 0.0869 - accuracy: 0.9726 - val_loss: 0.1510 - val_accuracy: 0.9540\n",
      "Epoch 87/100\n",
      "22/22 [==============================] - 0s 3ms/step - loss: 0.1062 - accuracy: 0.9524 - val_loss: 0.2342 - val_accuracy: 0.9540\n",
      "Epoch 88/100\n",
      "22/22 [==============================] - 0s 3ms/step - loss: 0.1055 - accuracy: 0.9610 - val_loss: 0.1554 - val_accuracy: 0.9655\n",
      "Epoch 89/100\n",
      "22/22 [==============================] - 0s 3ms/step - loss: 0.0825 - accuracy: 0.9711 - val_loss: 0.1602 - val_accuracy: 0.9655\n",
      "Epoch 90/100\n",
      "22/22 [==============================] - 0s 3ms/step - loss: 0.0813 - accuracy: 0.9668 - val_loss: 0.1618 - val_accuracy: 0.9655\n",
      "Epoch 91/100\n",
      "22/22 [==============================] - 0s 3ms/step - loss: 0.0858 - accuracy: 0.9668 - val_loss: 0.1982 - val_accuracy: 0.9368\n",
      "Epoch 92/100\n",
      "22/22 [==============================] - 0s 3ms/step - loss: 0.1091 - accuracy: 0.9596 - val_loss: 0.1741 - val_accuracy: 0.9425\n",
      "Epoch 93/100\n",
      "22/22 [==============================] - 0s 3ms/step - loss: 0.1020 - accuracy: 0.9625 - val_loss: 0.1410 - val_accuracy: 0.9713\n",
      "Epoch 94/100\n",
      "22/22 [==============================] - 0s 3ms/step - loss: 0.0743 - accuracy: 0.9683 - val_loss: 0.1417 - val_accuracy: 0.9713\n",
      "Epoch 95/100\n",
      "22/22 [==============================] - 0s 3ms/step - loss: 0.0735 - accuracy: 0.9697 - val_loss: 0.1468 - val_accuracy: 0.9655\n",
      "Epoch 96/100\n",
      "22/22 [==============================] - 0s 3ms/step - loss: 0.0783 - accuracy: 0.9726 - val_loss: 0.2153 - val_accuracy: 0.9598\n",
      "Epoch 97/100\n",
      "22/22 [==============================] - 0s 3ms/step - loss: 0.0864 - accuracy: 0.9668 - val_loss: 0.1351 - val_accuracy: 0.9655\n",
      "Epoch 98/100\n",
      "22/22 [==============================] - 0s 3ms/step - loss: 0.0732 - accuracy: 0.9740 - val_loss: 0.1482 - val_accuracy: 0.9655\n",
      "Epoch 99/100\n",
      "22/22 [==============================] - 0s 3ms/step - loss: 0.0722 - accuracy: 0.9726 - val_loss: 0.1524 - val_accuracy: 0.9713\n",
      "Epoch 100/100\n",
      "22/22 [==============================] - 0s 3ms/step - loss: 0.0886 - accuracy: 0.9683 - val_loss: 0.1432 - val_accuracy: 0.9655\n"
     ]
    }
   ],
   "source": [
    "history = model.fit(x=x_train, y=y_train, batch_size=32, epochs=100, validation_split=0.2)"
   ],
   "metadata": {
    "collapsed": false
   }
  },
  {
   "cell_type": "code",
   "execution_count": 17,
   "outputs": [
    {
     "data": {
      "text/plain": "<Figure size 640x480 with 1 Axes>",
      "image/png": "[encoded data removed]"
     },
     "metadata": {},
     "output_type": "display_data"
    }
   ],
   "source": [
    "import matplotlib.pyplot as plt\n",
    "\n",
    "def show_history(history):\n",
    "    plt.plot(history.history['accuracy'], label='train')\n",
    "    plt.plot(history.history['val_accuracy'], label='validation')\n",
    "    plt.legend()\n",
    "show_history(history)"
   ],
   "metadata": {
    "collapsed": false
   }
  },
  {
   "cell_type": "code",
   "execution_count": 18,
   "outputs": [
    {
     "name": "stdout",
     "output_type": "stream",
     "text": [
      "3/3 [==============================] - 0s 2ms/step - loss: 0.2724 - accuracy: 0.9194\n",
      "y_pred: loss값 : 0.27237147092819214\n",
      "y_pred: accuracy값:  0.9193548560142517\n"
     ]
    }
   ],
   "source": [
    "# 테스트 데이터 세트로 모델 성능 검출\n",
    "y_pred = model.evaluate(x_test, y_test, batch_size=128, verbose=1)\n",
    "print(f'y_pred: loss값 :', y_pred[0])\n",
    "print(f'y_pred: accuracy값: ', y_pred[1])"
   ],
   "metadata": {
    "collapsed": false
   }
  },
  {
   "cell_type": "markdown",
   "source": [
    "### callback 사용"
   ],
   "metadata": {
    "collapsed": false
   }
  },
  {
   "cell_type": "code",
   "execution_count": 20,
   "outputs": [
    {
     "name": "stdout",
     "output_type": "stream",
     "text": [
      "WARNING:tensorflow:`period` argument is deprecated. Please use `save_freq` to specify the frequency in number of batches seen.\n",
      "Epoch 1/1000\n",
      "22/22 [==============================] - 1s 12ms/step - loss: 0.6844 - accuracy: 0.6753 - val_loss: 0.7148 - val_accuracy: 0.6667 - lr: 0.0010\n",
      "Epoch 2/1000\n",
      "22/22 [==============================] - 0s 3ms/step - loss: 0.5036 - accuracy: 0.7374 - val_loss: 0.4592 - val_accuracy: 0.7759 - lr: 0.0010\n",
      "Epoch 3/1000\n",
      "22/22 [==============================] - 0s 3ms/step - loss: 0.4107 - accuracy: 0.8211 - val_loss: 0.4149 - val_accuracy: 0.8563 - lr: 0.0010\n",
      "Epoch 4/1000\n",
      "22/22 [==============================] - 0s 3ms/step - loss: 0.3610 - accuracy: 0.8629 - val_loss: 0.3481 - val_accuracy: 0.8678 - lr: 0.0010\n",
      "Epoch 5/1000\n",
      "22/22 [==============================] - 0s 3ms/step - loss: 0.3227 - accuracy: 0.8802 - val_loss: 0.3127 - val_accuracy: 0.8793 - lr: 0.0010\n",
      "Epoch 6/1000\n",
      "22/22 [==============================] - 0s 3ms/step - loss: 0.2959 - accuracy: 0.8846 - val_loss: 0.3107 - val_accuracy: 0.8908 - lr: 0.0010\n",
      "Epoch 7/1000\n",
      "22/22 [==============================] - 0s 3ms/step - loss: 0.2899 - accuracy: 0.8903 - val_loss: 0.3118 - val_accuracy: 0.8736 - lr: 0.0010\n",
      "Epoch 8/1000\n",
      "22/22 [==============================] - 0s 3ms/step - loss: 0.2422 - accuracy: 0.9206 - val_loss: 0.2658 - val_accuracy: 0.9138 - lr: 0.0010\n",
      "Epoch 9/1000\n",
      "22/22 [==============================] - 0s 3ms/step - loss: 0.2299 - accuracy: 0.9149 - val_loss: 0.2283 - val_accuracy: 0.9310 - lr: 0.0010\n",
      "Epoch 10/1000\n",
      "22/22 [==============================] - 0s 3ms/step - loss: 0.2146 - accuracy: 0.9177 - val_loss: 0.2323 - val_accuracy: 0.9483 - lr: 0.0010\n",
      "Epoch 11/1000\n",
      "22/22 [==============================] - 0s 3ms/step - loss: 0.1960 - accuracy: 0.9336 - val_loss: 0.2868 - val_accuracy: 0.9023 - lr: 0.0010\n",
      "Epoch 12/1000\n",
      "22/22 [==============================] - 0s 3ms/step - loss: 0.1918 - accuracy: 0.9264 - val_loss: 0.2209 - val_accuracy: 0.9483 - lr: 0.0010\n",
      "Epoch 13/1000\n",
      "22/22 [==============================] - 0s 3ms/step - loss: 0.1737 - accuracy: 0.9423 - val_loss: 0.1904 - val_accuracy: 0.9425 - lr: 0.0010\n",
      "Epoch 14/1000\n",
      "22/22 [==============================] - 0s 3ms/step - loss: 0.1732 - accuracy: 0.9481 - val_loss: 0.1929 - val_accuracy: 0.9540 - lr: 0.0010\n",
      "Epoch 15/1000\n",
      "22/22 [==============================] - 0s 3ms/step - loss: 0.1599 - accuracy: 0.9495 - val_loss: 0.1805 - val_accuracy: 0.9540 - lr: 0.0010\n",
      "Epoch 16/1000\n",
      "22/22 [==============================] - 0s 3ms/step - loss: 0.1574 - accuracy: 0.9466 - val_loss: 0.1833 - val_accuracy: 0.9598 - lr: 0.0010\n",
      "Epoch 17/1000\n",
      "22/22 [==============================] - 0s 3ms/step - loss: 0.1449 - accuracy: 0.9553 - val_loss: 0.2072 - val_accuracy: 0.9483 - lr: 0.0010\n",
      "Epoch 18/1000\n",
      "22/22 [==============================] - 0s 3ms/step - loss: 0.1393 - accuracy: 0.9538 - val_loss: 0.1742 - val_accuracy: 0.9598 - lr: 0.0010\n",
      "Epoch 19/1000\n",
      "22/22 [==============================] - 0s 3ms/step - loss: 0.1331 - accuracy: 0.9582 - val_loss: 0.2009 - val_accuracy: 0.9598 - lr: 0.0010\n",
      "Epoch 20/1000\n",
      "22/22 [==============================] - 0s 3ms/step - loss: 0.1487 - accuracy: 0.9509 - val_loss: 0.1730 - val_accuracy: 0.9598 - lr: 0.0010\n",
      "Epoch 21/1000\n",
      "22/22 [==============================] - 0s 3ms/step - loss: 0.1284 - accuracy: 0.9538 - val_loss: 0.1656 - val_accuracy: 0.9425 - lr: 0.0010\n",
      "Epoch 22/1000\n",
      "22/22 [==============================] - 0s 3ms/step - loss: 0.1293 - accuracy: 0.9553 - val_loss: 0.1598 - val_accuracy: 0.9368 - lr: 0.0010\n",
      "Epoch 23/1000\n",
      "22/22 [==============================] - 0s 3ms/step - loss: 0.1278 - accuracy: 0.9596 - val_loss: 0.1743 - val_accuracy: 0.9368 - lr: 0.0010\n",
      "Epoch 24/1000\n",
      "22/22 [==============================] - 0s 3ms/step - loss: 0.1255 - accuracy: 0.9625 - val_loss: 0.2808 - val_accuracy: 0.9195 - lr: 0.0010\n",
      "Epoch 25/1000\n",
      "22/22 [==============================] - 0s 3ms/step - loss: 0.1578 - accuracy: 0.9452 - val_loss: 0.1672 - val_accuracy: 0.9425 - lr: 0.0010\n",
      "Epoch 26/1000\n",
      "22/22 [==============================] - 0s 3ms/step - loss: 0.1316 - accuracy: 0.9509 - val_loss: 0.1668 - val_accuracy: 0.9655 - lr: 0.0010\n",
      "Epoch 27/1000\n",
      " 1/22 [>.............................] - ETA: 0s - loss: 0.0632 - accuracy: 1.0000\n",
      "Epoch 27: ReduceLROnPlateau reducing learning rate to 0.0003000000142492354.\n",
      "22/22 [==============================] - 0s 3ms/step - loss: 0.1407 - accuracy: 0.9437 - val_loss: 0.3056 - val_accuracy: 0.8793 - lr: 0.0010\n",
      "Epoch 28/1000\n",
      "22/22 [==============================] - 0s 3ms/step - loss: 0.1301 - accuracy: 0.9524 - val_loss: 0.1502 - val_accuracy: 0.9655 - lr: 3.0000e-04\n",
      "Epoch 29/1000\n",
      "22/22 [==============================] - 0s 3ms/step - loss: 0.1116 - accuracy: 0.9596 - val_loss: 0.1591 - val_accuracy: 0.9655 - lr: 3.0000e-04\n",
      "Epoch 30/1000\n",
      "22/22 [==============================] - 0s 3ms/step - loss: 0.1083 - accuracy: 0.9610 - val_loss: 0.1712 - val_accuracy: 0.9655 - lr: 3.0000e-04\n",
      "Epoch 31/1000\n",
      "22/22 [==============================] - 0s 3ms/step - loss: 0.1091 - accuracy: 0.9582 - val_loss: 0.1525 - val_accuracy: 0.9655 - lr: 3.0000e-04\n",
      "Epoch 32/1000\n",
      "22/22 [==============================] - 0s 3ms/step - loss: 0.1043 - accuracy: 0.9639 - val_loss: 0.1555 - val_accuracy: 0.9483 - lr: 3.0000e-04\n",
      "Epoch 33/1000\n",
      " 1/22 [>.............................] - ETA: 0s - loss: 0.2339 - accuracy: 0.8750\n",
      "Epoch 33: ReduceLROnPlateau reducing learning rate to 9.000000427477062e-05.\n",
      "22/22 [==============================] - 0s 3ms/step - loss: 0.1117 - accuracy: 0.9567 - val_loss: 0.1523 - val_accuracy: 0.9540 - lr: 3.0000e-04\n",
      "Epoch 34/1000\n",
      "22/22 [==============================] - 0s 3ms/step - loss: 0.1057 - accuracy: 0.9639 - val_loss: 0.1548 - val_accuracy: 0.9598 - lr: 9.0000e-05\n",
      "Epoch 35/1000\n",
      "22/22 [==============================] - 0s 3ms/step - loss: 0.1024 - accuracy: 0.9668 - val_loss: 0.1546 - val_accuracy: 0.9655 - lr: 9.0000e-05\n",
      "Epoch 35: early stopping\n"
     ]
    }
   ],
   "source": [
    "from tensorflow.keras.callbacks import ModelCheckpoint, ReduceLROnPlateau, EarlyStopping\n",
    "\n",
    "model = create_model()\n",
    "model.compile(optimizer=Adam(0.001), loss='binary_crossentropy', metrics=['accuracy'])\n",
    "\n",
    "mcp_cb = ModelCheckpoint(filepath='working/weights.{epoch:02d}-{val_loss:.2f}.hdf5', monitor='val_loss',\n",
    "                         save_best_only=True, save_weights_only=True, mode='min', period=1, verbose=0)\n",
    "rlr_cb = ReduceLROnPlateau(monitor='val_loss', factor=0.3, patience=5, mode='min', verbose=1)\n",
    "ely_cb = EarlyStopping(monitor='val_loss', patience=7, mode='min', verbose=1)\n",
    "\n",
    "history = model.fit(x=x_train, y=y_train, batch_size=32, epochs=1000, validation_split=0.2, callbacks=[mcp_cb, rlr_cb, ely_cb])"
   ],
   "metadata": {
    "collapsed": false
   }
  },
  {
   "cell_type": "code",
   "execution_count": 21,
   "outputs": [
    {
     "data": {
      "text/plain": "<Figure size 640x480 with 1 Axes>",
      "image/png": "[encoded data removed]"
     },
     "metadata": {},
     "output_type": "display_data"
    }
   ],
   "source": [
    "show_history(history)"
   ],
   "metadata": {
    "collapsed": false
   }
  },
  {
   "cell_type": "code",
   "execution_count": 22,
   "outputs": [
    {
     "name": "stdout",
     "output_type": "stream",
     "text": [
      "3/3 [==============================] - 0s 2ms/step - loss: 0.2254 - accuracy: 0.9167\n",
      "y_pred: loss값 : 0.2253740131855011\n",
      "y_pred: accuracy값:  0.9166666865348816\n"
     ]
    }
   ],
   "source": [
    "y_pred = model.evaluate(x_test, y_test, batch_size=128, verbose=1)\n",
    "print(f'y_pred: loss값 :', y_pred[0])\n",
    "print(f'y_pred: accuracy값: ', y_pred[1])"
   ],
   "metadata": {
    "collapsed": false
   }
  },
  {
   "cell_type": "code",
   "execution_count": null,
   "outputs": [],
   "source": [],
   "metadata": {
    "collapsed": false
   }
  }
 ],
 "metadata": {
  "kernelspec": {
   "display_name": "Python 3",
   "language": "python",
   "name": "python3"
  },
  "language_info": {
   "codemirror_mode": {
    "name": "ipython",
    "version": 2
   },
   "file_extension": ".py",
   "mimetype": "text/x-python",
   "name": "python",
   "nbconvert_exporter": "python",
   "pygments_lexer": "ipython2",
   "version": "2.7.6"
  }
 },
 "nbformat": 4,
 "nbformat_minor": 0
}
