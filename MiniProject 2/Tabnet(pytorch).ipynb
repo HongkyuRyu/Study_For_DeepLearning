{
 "cells": [
  {
   "cell_type": "markdown",
   "source": [
    "### Tabnet with Pytorch"
   ],
   "metadata": {
    "collapsed": false
   }
  },
  {
   "cell_type": "markdown",
   "source": [
    "![Tabnet](https://github.com/titu1994/tf-TabNet/raw/master/images/TabNet.png?raw=true)"
   ],
   "metadata": {
    "collapsed": false
   }
  },
  {
   "cell_type": "markdown",
   "source": [
    "![성능평가지표](https://img1.daumcdn.net/thumb/R1280x0/?scode=mtistory2&fname=https%3A%2F%2Fblog.kakaocdn.net%2Fdn%2FbgIGZp%2FbtqPsEsWvjd%2FzXRjwK6QPrzlPVj5FkAlG1%2Fimg.png)"
   ],
   "metadata": {
    "collapsed": false
   }
  },
  {
   "cell_type": "markdown",
   "source": [
    "### 1. import Library"
   ],
   "metadata": {
    "collapsed": false
   }
  },
  {
   "cell_type": "code",
   "execution_count": 47,
   "metadata": {
    "collapsed": true
   },
   "outputs": [],
   "source": [
    "import os\n",
    "import numpy as np\n",
    "import pandas as pd\n",
    "from sklearn.metrics import accuracy_score\n",
    "from sklearn.preprocessing import LabelEncoder\n",
    "import matplotlib.pyplot as plt\n",
    "\n",
    "import torch\n",
    "import torch.nn as nn\n",
    "from pytorch_tabnet.tab_model import TabNetClassifier"
   ]
  },
  {
   "cell_type": "markdown",
   "source": [
    "### 2. Data Load"
   ],
   "metadata": {
    "collapsed": false
   }
  },
  {
   "cell_type": "code",
   "execution_count": 48,
   "outputs": [],
   "source": [
    "data = pd.read_csv('./data_eda02_final.csv')\n",
    "data.drop('Unnamed: 0', axis=1, inplace=True)"
   ],
   "metadata": {
    "collapsed": false
   }
  },
  {
   "cell_type": "code",
   "execution_count": 49,
   "outputs": [],
   "source": [
    "target = 'label'\n",
    "if \"Set\" not in data.columns:\n",
    "    data[\"Set\"] = np.random.choice([\"train\", \"valid\", \"test\"], p =[.6,.2,.2], size=(data.shape[0],))\n",
    "\n",
    "train_indices = data[data.Set=='train'].index\n",
    "valid_indices = data[data.Set=='valid'].index\n",
    "test_indices = data[data.Set=='test'].index"
   ],
   "metadata": {
    "collapsed": false
   }
  },
  {
   "cell_type": "code",
   "execution_count": 50,
   "outputs": [
    {
     "data": {
      "text/plain": "((747,), (243,), (249,))"
     },
     "execution_count": 50,
     "metadata": {},
     "output_type": "execute_result"
    }
   ],
   "source": [
    "train_indices.shape, valid_indices.shape, test_indices.shape"
   ],
   "metadata": {
    "collapsed": false
   }
  },
  {
   "cell_type": "markdown",
   "source": [
    "### 3. Data Preprocessing"
   ],
   "metadata": {
    "collapsed": false
   }
  },
  {
   "cell_type": "code",
   "execution_count": 51,
   "outputs": [],
   "source": [
    "nunique = data.nunique()\n",
    "types = data.dtypes"
   ],
   "metadata": {
    "collapsed": false
   }
  },
  {
   "cell_type": "code",
   "execution_count": 52,
   "outputs": [
    {
     "name": "stdout",
     "output_type": "stream",
     "text": [
      "url_len 88\n",
      "url_num_hyphens_dom 5\n",
      "url_path_len 83\n",
      "url_domain_len 46\n",
      "url_num_dots 4\n",
      "url_ip_present 2\n",
      "html_num_tags('script') 14\n",
      "html_num_tags('div') 43\n",
      "html_num_tags('form') 2\n",
      "html_num_tags('a') 17\n",
      "label 2\n",
      "Set 3\n"
     ]
    }
   ],
   "source": [
    "categorical_columns = []\n",
    "categorical_dims =  {}\n",
    "for col in data.columns:\n",
    "    if types[col] == 'object' or nunique[col] < 200:\n",
    "        print(col, data[col].nunique())\n",
    "        l_enc = LabelEncoder()\n",
    "        data[col] = data[col].fillna(\"VV_likely\")\n",
    "        data[col] = l_enc.fit_transform(data[col].values)\n",
    "        categorical_columns.append(col)\n",
    "        categorical_dims[col] = len(l_enc.classes_)\n",
    "    else:\n",
    "        data.fillna(data.loc[train_indices, col].mean(), inplace=True)"
   ],
   "metadata": {
    "collapsed": false
   }
  },
  {
   "cell_type": "code",
   "execution_count": 53,
   "outputs": [],
   "source": [
    "# Categorical Embedding을 위해 Categorical 변수의 차원과 idxs를 담음.\n",
    "unused_feat = ['Set']\n",
    "features = [ col for col in data.columns if col not in unused_feat+[target]]\n",
    "cat_idxs = [ i for i, f in enumerate(features) if f in categorical_columns]\n",
    "cat_dims = [ categorical_dims[f] for i, f in enumerate(features) if f in categorical_columns]"
   ],
   "metadata": {
    "collapsed": false
   }
  },
  {
   "cell_type": "code",
   "execution_count": 54,
   "outputs": [],
   "source": [
    "x_train = data[features].values[train_indices]\n",
    "y_train = data[target].values[train_indices]\n",
    "\n",
    "x_valid = data[features].values[valid_indices]\n",
    "y_valid = data[target].values[valid_indices]\n",
    "\n",
    "\n",
    "x_test = data[features].values[test_indices]\n",
    "y_test = data[target].values[test_indices]"
   ],
   "metadata": {
    "collapsed": false
   }
  },
  {
   "cell_type": "code",
   "execution_count": 55,
   "outputs": [
    {
     "data": {
      "text/plain": "((747, 11), (747,), (243, 11), (243,), (249, 11), (249,))"
     },
     "execution_count": 55,
     "metadata": {},
     "output_type": "execute_result"
    }
   ],
   "source": [
    "x_train.shape, y_train.shape, x_valid.shape, y_valid.shape , x_test.shape, y_test.shape"
   ],
   "metadata": {
    "collapsed": false
   }
  },
  {
   "cell_type": "markdown",
   "source": [
    "- Tabnet은 특이하게 one-hot-encoding을 지원하지 않는다. 무조건 input은 1D 로 들어가야한다."
   ],
   "metadata": {
    "collapsed": false
   }
  },
  {
   "cell_type": "code",
   "execution_count": 38,
   "outputs": [],
   "source": [
    "# y_train2 = y_train.copy()"
   ],
   "metadata": {
    "collapsed": false
   }
  },
  {
   "cell_type": "code",
   "execution_count": 42,
   "outputs": [],
   "source": [
    "# def to_categorical(y, num_classes):\n",
    "#     return np.eye(num_classes, dtype='int64')[y]"
   ],
   "metadata": {
    "collapsed": false
   }
  },
  {
   "cell_type": "code",
   "execution_count": 43,
   "outputs": [],
   "source": [
    "# y_train = to_categorical(y_train, 2)\n",
    "# y_valid = to_categorical(y_valid, 2)\n",
    "# y_test = to_categorical(y_valid, 2)"
   ],
   "metadata": {
    "collapsed": false
   }
  },
  {
   "cell_type": "code",
   "execution_count": 44,
   "outputs": [
    {
     "data": {
      "text/plain": "((728, 11), (728, 2))"
     },
     "execution_count": 44,
     "metadata": {},
     "output_type": "execute_result"
    }
   ],
   "source": [
    "# x_train.shape, y_train.shape"
   ],
   "metadata": {
    "collapsed": false
   }
  },
  {
   "cell_type": "markdown",
   "source": [
    "### 4. Define the Model"
   ],
   "metadata": {
    "collapsed": false
   }
  },
  {
   "cell_type": "code",
   "execution_count": 56,
   "outputs": [
    {
     "name": "stderr",
     "output_type": "stream",
     "text": [
      "C:\\Users\\minsu\\anaconda3\\envs\\deeplearning\\lib\\site-packages\\pytorch_tabnet\\abstract_model.py:75: UserWarning: Device used : cuda\n",
      "  warnings.warn(f\"Device used : {self.device}\")\n"
     ]
    }
   ],
   "source": [
    "clf = TabNetClassifier(cat_idxs=cat_idxs,\n",
    "                       cat_dims=cat_dims,\n",
    "                       cat_emb_dim=10,\n",
    "                       optimizer_fn=torch.optim.Adam,\n",
    "                       optimizer_params=dict(lr=1e-2),\n",
    "                       scheduler_params={\"step_size\":50,\n",
    "                                         \"gamma\":0.9},\n",
    "                       scheduler_fn=torch.optim.lr_scheduler.StepLR,\n",
    "                       mask_type='sparsemax' # \"sparsemax\", entmax\n",
    "                       )"
   ],
   "metadata": {
    "collapsed": false
   }
  },
  {
   "cell_type": "markdown",
   "source": [
    "### 5. Train / Valid"
   ],
   "metadata": {
    "collapsed": false
   }
  },
  {
   "cell_type": "code",
   "execution_count": 57,
   "outputs": [
    {
     "name": "stdout",
     "output_type": "stream",
     "text": [
      "epoch 0  | loss: 0.84976 | train_accuracy: 0.4257  | valid_accuracy: 0.42387 |  0:00:01s\n",
      "epoch 1  | loss: 0.62073 | train_accuracy: 0.45248 | valid_accuracy: 0.46091 |  0:00:02s\n",
      "epoch 2  | loss: 0.58613 | train_accuracy: 0.60643 | valid_accuracy: 0.63786 |  0:00:03s\n",
      "epoch 3  | loss: 0.51021 | train_accuracy: 0.68809 | valid_accuracy: 0.67078 |  0:00:04s\n",
      "epoch 4  | loss: 0.47345 | train_accuracy: 0.81392 | valid_accuracy: 0.80658 |  0:00:06s\n",
      "epoch 5  | loss: 0.43385 | train_accuracy: 0.82999 | valid_accuracy: 0.82305 |  0:00:07s\n",
      "epoch 6  | loss: 0.3882  | train_accuracy: 0.83802 | valid_accuracy: 0.79835 |  0:00:08s\n",
      "epoch 7  | loss: 0.3964  | train_accuracy: 0.84739 | valid_accuracy: 0.82305 |  0:00:09s\n",
      "epoch 8  | loss: 0.33466 | train_accuracy: 0.85274 | valid_accuracy: 0.84362 |  0:00:10s\n",
      "epoch 9  | loss: 0.38383 | train_accuracy: 0.85274 | valid_accuracy: 0.83951 |  0:00:11s\n",
      "epoch 10 | loss: 0.32294 | train_accuracy: 0.84873 | valid_accuracy: 0.83539 |  0:00:12s\n",
      "epoch 11 | loss: 0.31694 | train_accuracy: 0.89424 | valid_accuracy: 0.87243 |  0:00:14s\n",
      "epoch 12 | loss: 0.26208 | train_accuracy: 0.90094 | valid_accuracy: 0.87654 |  0:00:15s\n",
      "epoch 13 | loss: 0.27935 | train_accuracy: 0.90094 | valid_accuracy: 0.83951 |  0:00:16s\n",
      "epoch 14 | loss: 0.23625 | train_accuracy: 0.92236 | valid_accuracy: 0.88477 |  0:00:18s\n",
      "epoch 15 | loss: 0.21989 | train_accuracy: 0.92102 | valid_accuracy: 0.893   |  0:00:19s\n",
      "epoch 16 | loss: 0.23412 | train_accuracy: 0.9344  | valid_accuracy: 0.88066 |  0:00:20s\n",
      "epoch 17 | loss: 0.18432 | train_accuracy: 0.94511 | valid_accuracy: 0.90535 |  0:00:21s\n",
      "epoch 18 | loss: 0.17525 | train_accuracy: 0.92236 | valid_accuracy: 0.90123 |  0:00:22s\n",
      "epoch 19 | loss: 0.19926 | train_accuracy: 0.95315 | valid_accuracy: 0.90123 |  0:00:24s\n",
      "epoch 20 | loss: 0.22449 | train_accuracy: 0.94779 | valid_accuracy: 0.9177  |  0:00:25s\n",
      "epoch 21 | loss: 0.16025 | train_accuracy: 0.9585  | valid_accuracy: 0.93004 |  0:00:26s\n",
      "epoch 22 | loss: 0.13866 | train_accuracy: 0.96118 | valid_accuracy: 0.91358 |  0:00:27s\n",
      "epoch 23 | loss: 0.15506 | train_accuracy: 0.9585  | valid_accuracy: 0.9177  |  0:00:29s\n",
      "epoch 24 | loss: 0.13242 | train_accuracy: 0.95716 | valid_accuracy: 0.90535 |  0:00:30s\n",
      "epoch 25 | loss: 0.13805 | train_accuracy: 0.96921 | valid_accuracy: 0.92181 |  0:00:31s\n",
      "epoch 26 | loss: 0.15413 | train_accuracy: 0.97055 | valid_accuracy: 0.9177  |  0:00:32s\n",
      "epoch 27 | loss: 0.12362 | train_accuracy: 0.97323 | valid_accuracy: 0.93004 |  0:00:33s\n",
      "epoch 28 | loss: 0.12717 | train_accuracy: 0.96787 | valid_accuracy: 0.93827 |  0:00:34s\n",
      "epoch 29 | loss: 0.09684 | train_accuracy: 0.97055 | valid_accuracy: 0.92593 |  0:00:36s\n",
      "epoch 30 | loss: 0.10858 | train_accuracy: 0.98126 | valid_accuracy: 0.92181 |  0:00:37s\n",
      "epoch 31 | loss: 0.09065 | train_accuracy: 0.98527 | valid_accuracy: 0.93416 |  0:00:38s\n",
      "epoch 32 | loss: 0.08975 | train_accuracy: 0.97992 | valid_accuracy: 0.93004 |  0:00:39s\n",
      "epoch 33 | loss: 0.1035  | train_accuracy: 0.97992 | valid_accuracy: 0.93416 |  0:00:40s\n",
      "epoch 34 | loss: 0.11032 | train_accuracy: 0.98661 | valid_accuracy: 0.94239 |  0:00:41s\n",
      "epoch 35 | loss: 0.06306 | train_accuracy: 0.98929 | valid_accuracy: 0.92593 |  0:00:42s\n",
      "epoch 36 | loss: 0.05745 | train_accuracy: 0.99331 | valid_accuracy: 0.92593 |  0:00:44s\n",
      "epoch 37 | loss: 0.04705 | train_accuracy: 0.99063 | valid_accuracy: 0.92593 |  0:00:45s\n",
      "epoch 38 | loss: 0.06724 | train_accuracy: 0.98795 | valid_accuracy: 0.93416 |  0:00:46s\n",
      "epoch 39 | loss: 0.04843 | train_accuracy: 0.99063 | valid_accuracy: 0.93416 |  0:00:47s\n",
      "epoch 40 | loss: 0.05648 | train_accuracy: 0.99197 | valid_accuracy: 0.93827 |  0:00:48s\n",
      "epoch 41 | loss: 0.04088 | train_accuracy: 0.99197 | valid_accuracy: 0.94239 |  0:00:49s\n",
      "epoch 42 | loss: 0.06455 | train_accuracy: 0.99465 | valid_accuracy: 0.93416 |  0:00:50s\n",
      "epoch 43 | loss: 0.08931 | train_accuracy: 0.99197 | valid_accuracy: 0.94239 |  0:00:52s\n",
      "epoch 44 | loss: 0.05805 | train_accuracy: 0.99197 | valid_accuracy: 0.95062 |  0:00:53s\n",
      "epoch 45 | loss: 0.04614 | train_accuracy: 0.98929 | valid_accuracy: 0.9465  |  0:00:54s\n",
      "epoch 46 | loss: 0.04557 | train_accuracy: 0.99465 | valid_accuracy: 0.94239 |  0:00:55s\n",
      "epoch 47 | loss: 0.05028 | train_accuracy: 0.99465 | valid_accuracy: 0.95062 |  0:00:56s\n",
      "epoch 48 | loss: 0.04012 | train_accuracy: 0.99465 | valid_accuracy: 0.95062 |  0:00:58s\n",
      "epoch 49 | loss: 0.05822 | train_accuracy: 0.99465 | valid_accuracy: 0.94239 |  0:00:59s\n",
      "epoch 50 | loss: 0.04051 | train_accuracy: 0.99732 | valid_accuracy: 0.93827 |  0:01:00s\n",
      "epoch 51 | loss: 0.04137 | train_accuracy: 0.99598 | valid_accuracy: 0.93827 |  0:01:01s\n",
      "epoch 52 | loss: 0.02045 | train_accuracy: 0.99732 | valid_accuracy: 0.95062 |  0:01:03s\n",
      "epoch 53 | loss: 0.03262 | train_accuracy: 0.99197 | valid_accuracy: 0.94239 |  0:01:04s\n",
      "epoch 54 | loss: 0.03343 | train_accuracy: 0.99598 | valid_accuracy: 0.95062 |  0:01:05s\n",
      "epoch 55 | loss: 0.03736 | train_accuracy: 0.99598 | valid_accuracy: 0.95885 |  0:01:06s\n",
      "epoch 56 | loss: 0.04245 | train_accuracy: 0.99866 | valid_accuracy: 0.96708 |  0:01:07s\n",
      "epoch 57 | loss: 0.02384 | train_accuracy: 0.99732 | valid_accuracy: 0.95885 |  0:01:09s\n",
      "epoch 58 | loss: 0.04099 | train_accuracy: 0.99732 | valid_accuracy: 0.95473 |  0:01:10s\n",
      "epoch 59 | loss: 0.03543 | train_accuracy: 0.99598 | valid_accuracy: 0.93416 |  0:01:11s\n",
      "epoch 60 | loss: 0.03535 | train_accuracy: 0.99866 | valid_accuracy: 0.93827 |  0:01:12s\n",
      "epoch 61 | loss: 0.02647 | train_accuracy: 0.99866 | valid_accuracy: 0.9465  |  0:01:13s\n",
      "epoch 62 | loss: 0.04429 | train_accuracy: 0.99866 | valid_accuracy: 0.97119 |  0:01:14s\n",
      "epoch 63 | loss: 0.04436 | train_accuracy: 0.99866 | valid_accuracy: 0.95885 |  0:01:15s\n",
      "epoch 64 | loss: 0.02525 | train_accuracy: 0.99732 | valid_accuracy: 0.95473 |  0:01:16s\n",
      "epoch 65 | loss: 0.01728 | train_accuracy: 0.99866 | valid_accuracy: 0.95885 |  0:01:18s\n",
      "epoch 66 | loss: 0.04243 | train_accuracy: 1.0     | valid_accuracy: 0.9465  |  0:01:19s\n",
      "epoch 67 | loss: 0.03353 | train_accuracy: 0.99866 | valid_accuracy: 0.9465  |  0:01:20s\n",
      "epoch 68 | loss: 0.01924 | train_accuracy: 0.99866 | valid_accuracy: 0.9465  |  0:01:21s\n",
      "epoch 69 | loss: 0.01543 | train_accuracy: 1.0     | valid_accuracy: 0.95062 |  0:01:22s\n",
      "epoch 70 | loss: 0.00746 | train_accuracy: 1.0     | valid_accuracy: 0.9465  |  0:01:23s\n",
      "epoch 71 | loss: 0.03985 | train_accuracy: 1.0     | valid_accuracy: 0.95062 |  0:01:24s\n",
      "epoch 72 | loss: 0.00849 | train_accuracy: 1.0     | valid_accuracy: 0.9465  |  0:01:25s\n",
      "epoch 73 | loss: 0.01924 | train_accuracy: 1.0     | valid_accuracy: 0.95885 |  0:01:27s\n",
      "epoch 74 | loss: 0.01725 | train_accuracy: 0.99866 | valid_accuracy: 0.9465  |  0:01:28s\n",
      "epoch 75 | loss: 0.02139 | train_accuracy: 0.99866 | valid_accuracy: 0.93416 |  0:01:29s\n",
      "epoch 76 | loss: 0.02642 | train_accuracy: 0.99866 | valid_accuracy: 0.93827 |  0:01:30s\n",
      "epoch 77 | loss: 0.01706 | train_accuracy: 1.0     | valid_accuracy: 0.95062 |  0:01:31s\n",
      "epoch 78 | loss: 0.02724 | train_accuracy: 1.0     | valid_accuracy: 0.94239 |  0:01:32s\n",
      "epoch 79 | loss: 0.01592 | train_accuracy: 0.99866 | valid_accuracy: 0.93827 |  0:01:33s\n",
      "epoch 80 | loss: 0.01548 | train_accuracy: 1.0     | valid_accuracy: 0.93004 |  0:01:35s\n",
      "epoch 81 | loss: 0.0042  | train_accuracy: 1.0     | valid_accuracy: 0.95062 |  0:01:36s\n",
      "epoch 82 | loss: 0.00771 | train_accuracy: 1.0     | valid_accuracy: 0.95062 |  0:01:37s\n",
      "\n",
      "Early stopping occurred at epoch 82 with best_epoch = 62 and best_valid_accuracy = 0.97119\n"
     ]
    },
    {
     "name": "stderr",
     "output_type": "stream",
     "text": [
      "C:\\Users\\minsu\\anaconda3\\envs\\deeplearning\\lib\\site-packages\\pytorch_tabnet\\callbacks.py:172: UserWarning: Best weights from best epoch are automatically used!\n",
      "  warnings.warn(wrn_msg)\n"
     ]
    }
   ],
   "source": [
    "max_epochs = 100\n",
    "\n",
    "clf.fit(\n",
    "    X_train=x_train, y_train=y_train,\n",
    "    eval_set=[(x_train, y_train), (x_valid, y_valid)],\n",
    "    eval_name=['train', 'valid'],\n",
    "    eval_metric=['accuracy'],\n",
    "    max_epochs=max_epochs , patience=20,\n",
    "    batch_size=32, virtual_batch_size=32,\n",
    "    num_workers=0,\n",
    "    weights=1,\n",
    "    drop_last=False,\n",
    ")"
   ],
   "metadata": {
    "collapsed": false
   }
  },
  {
   "cell_type": "code",
   "execution_count": 59,
   "outputs": [],
   "source": [
    "y_pred = clf.predict_proba(x_test)"
   ],
   "metadata": {
    "collapsed": false
   }
  },
  {
   "cell_type": "code",
   "execution_count": 61,
   "outputs": [
    {
     "name": "stdout",
     "output_type": "stream",
     "text": [
      "[9.9923301e-01 9.9765909e-01 1.4161796e-04 3.7828060e-05 9.9777621e-01\n",
      " 9.9972457e-01 4.2075064e-04 2.5769461e-05 9.9962628e-01 9.9943405e-01\n",
      " 1.4161796e-04 2.2435504e-05 4.3341020e-04 9.7619087e-01 4.0245627e-04\n",
      " 1.9030641e-04 9.9976605e-01 5.9406314e-04 9.9988234e-01 9.5683783e-03\n",
      " 9.9918920e-01 9.9980205e-01 1.4176948e-03 9.9965048e-01 9.9993920e-01\n",
      " 4.6789457e-04 1.0003853e-04 9.9992073e-01 4.5881131e-01 9.3665816e-02\n",
      " 9.9990141e-01 9.9980205e-01 9.9995041e-01 1.4161796e-04 9.9865049e-01\n",
      " 9.9998868e-01 1.0565481e-04 9.9967813e-01 1.5920599e-04 1.6833850e-03\n",
      " 9.9916077e-01 9.9980205e-01 1.3001354e-03 9.9945325e-01 1.4161796e-04\n",
      " 9.9974293e-01 8.4898595e-05 3.4454644e-01 6.8571814e-04 9.9814141e-01\n",
      " 9.9987400e-01 9.9774396e-01 9.9952543e-01 3.5465183e-04 9.9791962e-01\n",
      " 1.4176948e-03 3.0510084e-05 4.3454310e-01 1.8628116e-04 9.8415208e-01\n",
      " 2.0110032e-03 9.9992585e-01 9.9891210e-01 9.9971241e-01 4.2542517e-03\n",
      " 9.9945325e-01 2.6435205e-03 9.9898440e-01 1.6036807e-02 1.4567998e-01\n",
      " 9.9988258e-01 9.9785066e-01 9.9986231e-01 9.9988472e-01 2.9488208e-03\n",
      " 9.9837685e-01 3.7640501e-05 9.9978620e-01 2.7879732e-04 9.9972457e-01\n",
      " 2.4216874e-01 9.9960178e-01 9.9848986e-01 1.0694237e-03 9.9966991e-01\n",
      " 9.9150836e-01 1.0837431e-03 9.9994910e-01 9.9982423e-01 9.9884295e-01\n",
      " 9.9980205e-01 1.2296829e-03 9.3676263e-01 9.9151927e-01 9.9979645e-01\n",
      " 5.9854105e-04 6.2253982e-01 2.2796579e-03 9.9554765e-01 1.0920252e-02\n",
      " 5.0492810e-05 9.9993098e-01 8.9985413e-05 9.9717903e-01 1.1481195e-02\n",
      " 1.4161796e-04 9.9947423e-01 3.7958544e-05 1.3105398e-01 2.0831008e-05\n",
      " 9.9774420e-01 7.5349392e-04 9.9925143e-01 8.8992524e-01 7.3729289e-01\n",
      " 9.9945635e-01 9.3712294e-01 9.9863774e-01 9.8447233e-01 9.9888188e-01\n",
      " 5.0981890e-04 9.8536229e-01 3.4323029e-04 2.1323534e-02 2.0337677e-01\n",
      " 9.9233317e-01 9.9908698e-01 9.9994373e-01 9.9832445e-01 9.9959522e-01\n",
      " 2.2435504e-05 6.0168755e-01 2.4607752e-03 9.9792153e-01 2.2330561e-04\n",
      " 9.9814117e-01 9.9985158e-01 9.9975747e-01 8.8114113e-01 9.9994421e-01\n",
      " 4.8164749e-03 9.9774653e-01 2.2435504e-05 2.2435504e-05 9.9606365e-01\n",
      " 9.9813324e-01 2.2435504e-05 1.4161796e-04 9.9243438e-01 1.0383826e-03\n",
      " 9.8345917e-01 9.9285418e-01 3.7751906e-05 7.9356143e-03 9.9838901e-01\n",
      " 9.9980634e-01 9.8991382e-01 1.4930975e-01 9.9633491e-01 4.2675249e-03\n",
      " 9.3164212e-01 1.9438119e-04 9.9928027e-01 9.5185894e-01 9.4249976e-01\n",
      " 8.4234744e-01 9.9994910e-01 1.9038955e-04 9.9917382e-01 9.9962878e-01\n",
      " 9.9958390e-01 3.8160564e-05 9.9994910e-01 9.9999237e-01 5.5476493e-01\n",
      " 5.1025402e-02 9.1105056e-01 9.9985158e-01 2.5762248e-01 9.9974507e-01\n",
      " 1.9362578e-03 9.9657249e-01 8.9869869e-01 9.9982148e-01 9.9807525e-01\n",
      " 9.9993968e-01 9.9771106e-01 4.9242442e-03 9.7973061e-01 9.9988234e-01\n",
      " 9.9148613e-04 9.9420977e-01 1.8322949e-03 9.9967349e-01 9.9988234e-01\n",
      " 8.7059721e-05 2.3725075e-05 3.8015671e-05 9.9567789e-01 9.9845958e-01\n",
      " 1.3253306e-02 9.9873644e-01 6.3732159e-01 9.9922621e-01 1.3946370e-02\n",
      " 1.9001433e-01 9.9948007e-01 9.9062538e-01 9.9763751e-01 1.4161796e-04\n",
      " 9.9994278e-01 9.8844063e-01 9.9624497e-01 1.3620330e-02 9.9620444e-01\n",
      " 9.8668391e-01 9.9965203e-01 9.9939609e-01 9.9818426e-01 9.2034070e-03\n",
      " 9.1813213e-01 3.4220081e-03 6.9790862e-05 1.4161796e-04 5.1711866e-04\n",
      " 9.9867970e-01 3.9188311e-02 9.9828488e-01 9.9934262e-01 9.9695742e-01\n",
      " 9.9921453e-01 9.9237752e-01 9.9972457e-01 9.9949610e-01 9.9978620e-01\n",
      " 9.4013232e-01 1.4161796e-04 9.9005705e-01 2.3661718e-05 9.9864727e-01\n",
      " 2.1729214e-04 2.4581503e-02 8.7341602e-04 1.4176948e-03 9.9939919e-01\n",
      " 1.9850952e-03 9.9965358e-01 2.3907040e-04 3.6123427e-05]\n"
     ]
    }
   ],
   "source": [
    "print(y_pred[:, 1])"
   ],
   "metadata": {
    "collapsed": false
   }
  },
  {
   "cell_type": "code",
   "execution_count": 62,
   "outputs": [
    {
     "name": "stdout",
     "output_type": "stream",
     "text": [
      "[1 1 0 0 1 1 0 0 1 1 0 0 0 1 0 0 1 0 1 0 1 1 0 1 1 0 0 1 1 0 1 1 1 0 1 1 0\n",
      " 1 0 0 1 1 0 1 0 1 0 0 0 1 1 1 1 0 1 0 0 0 0 1 0 1 1 1 0 1 0 1 0 0 1 1 1 1\n",
      " 0 1 0 1 0 1 0 1 1 0 1 1 0 1 1 1 1 0 1 1 1 0 0 0 1 0 0 1 0 1 0 0 1 0 1 0 1\n",
      " 0 0 1 1 1 0 1 1 1 0 0 0 1 0 1 1 1 1 1 0 1 0 1 0 1 1 1 1 1 0 1 0 0 1 1 0 0\n",
      " 1 0 1 0 0 0 1 1 1 1 1 0 1 0 1 1 1 1 1 0 1 1 1 0 1 1 0 0 1 1 0 1 0 1 1 1 0\n",
      " 1 1 0 1 1 0 0 0 1 1 0 0 0 1 1 0 1 1 1 0 0 1 1 1 0 1 1 1 0 1 1 1 1 1 0 1 0\n",
      " 0 0 0 1 1 1 1 1 0 0 1 1 1 1 0 1 0 1 0 0 0 0 1 0 1 0 0]\n"
     ]
    }
   ],
   "source": [
    "print(y_test)"
   ],
   "metadata": {
    "collapsed": false
   }
  },
  {
   "cell_type": "markdown",
   "source": [
    "### 6. Evaluate"
   ],
   "metadata": {
    "collapsed": false
   }
  },
  {
   "cell_type": "code",
   "execution_count": 69,
   "outputs": [
    {
     "name": "stdout",
     "output_type": "stream",
     "text": [
      "0.9746610504146374\n"
     ]
    }
   ],
   "source": [
    "from sklearn.metrics import roc_auc_score\n",
    "\n",
    "print(roc_auc_score(y_test, y_pred[:, 1]))"
   ],
   "metadata": {
    "collapsed": false
   }
  },
  {
   "cell_type": "markdown",
   "source": [
    "- accuracy_score은 에러가 난다. stackoverflow 찾아보니 그냥 roc_auc_score쓰라고 함."
   ],
   "metadata": {
    "collapsed": false
   }
  }
 ],
 "metadata": {
  "kernelspec": {
   "display_name": "Python 3",
   "language": "python",
   "name": "python3"
  },
  "language_info": {
   "codemirror_mode": {
    "name": "ipython",
    "version": 2
   },
   "file_extension": ".py",
   "mimetype": "text/x-python",
   "name": "python",
   "nbconvert_exporter": "python",
   "pygments_lexer": "ipython2",
   "version": "2.7.6"
  }
 },
 "nbformat": 4,
 "nbformat_minor": 0
}
