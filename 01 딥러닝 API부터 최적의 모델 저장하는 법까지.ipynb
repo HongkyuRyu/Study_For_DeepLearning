{
 "cells": [
  {
   "cell_type": "markdown",
   "source": [
    "## 딥러닝 모델 -> 학습까지의 순서 정리.\n",
    "- (1) Function API로 모델 만들기\n",
    "- (2) 이미지 데이터의 경우 -> 전처리작업 수행\n",
    "- (3) class 분류의 경우, One hot Encoding 수행\n",
    "- (4) 학습, 검증 모델 나누기\n",
    "- (5) Compile, 학습/예측/평가"
   ],
   "metadata": {
    "collapsed": false
   }
  },
  {
   "cell_type": "markdown",
   "source": [
    "### (1) Functional API로 모델 만들기"
   ],
   "metadata": {
    "collapsed": false
   }
  },
  {
   "cell_type": "code",
   "execution_count": 3,
   "metadata": {
    "collapsed": true
   },
   "outputs": [],
   "source": [
    "from tensorflow.keras.backend import clear_session\n",
    "from tensorflow.keras.layers import Layer, Input, Flatten, Dense\n",
    "from tensorflow.keras.models import Model\n",
    "from tensorflow.keras.utils import plot_model\n",
    "import tensorflow as tf\n",
    "\n",
    "\n",
    "INPUT_SIZE = 28\n",
    "def create_model():\n",
    "    clear_session()\n",
    "    input_tensor = Input(shape=(INPUT_SIZE, INPUT_SIZE))\n",
    "    x = Flatten()(input_tensor)\n",
    "    x = Dense(100, activation='relu')(x)\n",
    "    x = Dense(30, activation='relu')(x)\n",
    "    output = Dense(10, activation='softmax')(x)\n",
    "\n",
    "    model = Model(input_tensor, output)\n",
    "    return  model"
   ]
  },
  {
   "cell_type": "code",
   "execution_count": 4,
   "outputs": [
    {
     "name": "stdout",
     "output_type": "stream",
     "text": [
      "Model: \"model\"\n",
      "_________________________________________________________________\n",
      " Layer (type)                Output Shape              Param #   \n",
      "=================================================================\n",
      " input_1 (InputLayer)        [(None, 28, 28)]          0         \n",
      "                                                                 \n",
      " flatten (Flatten)           (None, 784)               0         \n",
      "                                                                 \n",
      " dense (Dense)               (None, 100)               78500     \n",
      "                                                                 \n",
      " dense_1 (Dense)             (None, 30)                3030      \n",
      "                                                                 \n",
      " dense_2 (Dense)             (None, 10)                310       \n",
      "                                                                 \n",
      "=================================================================\n",
      "Total params: 81,840\n",
      "Trainable params: 81,840\n",
      "Non-trainable params: 0\n",
      "_________________________________________________________________\n"
     ]
    }
   ],
   "source": [
    "# test\n",
    "model = create_model()\n",
    "model.summary()"
   ],
   "metadata": {
    "collapsed": false
   }
  },
  {
   "cell_type": "markdown",
   "source": [
    "- keras에서 None은 batch_size다, Param는 weight + bias가 더해진 값\n",
    "- 784 * 100 + 100 = 78500"
   ],
   "metadata": {
    "collapsed": false
   }
  },
  {
   "cell_type": "markdown",
   "source": [
    "### (2) img데이터의 경우, 전처리 작업 수행\n",
    "- 0~1 사이의 값의 float32로 변경하는 함수\n",
    "- (0-255 -> 0-1로 변환)"
   ],
   "metadata": {
    "collapsed": false
   }
  },
  {
   "cell_type": "code",
   "execution_count": 18,
   "outputs": [],
   "source": [
    "from tensorflow.keras.utils import to_categorical\n",
    "from sklearn.model_selection import train_test_split\n",
    "import numpy as np\n",
    "\n",
    "# 0 ~ 1사이값의 float32로 변경하는 함수(0~255 -> 0~1로 변환)\n",
    "def get_preprocessed_data(images, labels):\n",
    "    images = np.array(images / 255.0, dtype=np.float32)\n",
    "    labels = np.array(labels, dtype=np.float32)\n",
    "    return images, labels\n",
    "\n",
    "# 0~1 사이값으로 변경해주는 함수 호출 뒤 OHE 적용(One-hot-encoding)\n",
    "def get_preprocessed_ohe(images, labels):\n",
    "    images, labels = get_preprocessed_data(images, labels)\n",
    "    # labels로 ohe수행\n",
    "    oh_labels = to_categorical(labels)\n",
    "    return images, oh_labels\n",
    "\n",
    "# 학습/검증/테스트 데이터 세트에 전처리와 OHE를 적용한 뒤 반환\n",
    "# 이때, 전처리 작업을 모두 한뒤에 -> split하자.\n",
    "def get_train_valid_test_set(train_images, train_labels, test_images, test_labels, valid_size=0.15, random_state=2023):\n",
    "\n",
    "    # 1.전처리 작업을 전부 수행\n",
    "    trian_images, train_oh_labels = get_preprocessed_ohe(train_images, train_labels)\n",
    "    test_images, test_oh_labels = get_preprocessed_ohe(test_images, test_labels)\n",
    "\n",
    "    # 2.학습데이터로부터 검증데이터 만들기\n",
    "    tr_images, val_images, tr_oh_labels, val_oh_labels = train_test_split(train_images, train_oh_labels, test_size=valid_size, random_state=random_state)\n",
    "\n",
    "    return (tr_images, tr_oh_labels), (val_images, val_oh_labels), (test_images, test_oh_labels)"
   ],
   "metadata": {
    "collapsed": false
   }
  },
  {
   "cell_type": "markdown",
   "source": [
    "#### 데이터셋 불러오기"
   ],
   "metadata": {
    "collapsed": false
   }
  },
  {
   "cell_type": "code",
   "execution_count": 19,
   "outputs": [
    {
     "name": "stdout",
     "output_type": "stream",
     "text": [
      "(60000, 28, 28) (60000,) (10000, 28, 28) (10000,)\n"
     ]
    }
   ],
   "source": [
    "from tensorflow.keras.datasets import fashion_mnist\n",
    "# Fashion MNIST 데이터 로딩 및 전처리 적용하여 학습/검증/데이터 세트 생성\n",
    "(train_images, train_labels), (test_images, test_labels) = fashion_mnist.load_data()\n",
    "print(train_images.shape, train_labels.shape, test_images.shape, test_labels.shape)"
   ],
   "metadata": {
    "collapsed": false
   }
  },
  {
   "cell_type": "code",
   "execution_count": 20,
   "outputs": [
    {
     "name": "stdout",
     "output_type": "stream",
     "text": [
      "tr_images:  (51000, 28, 28)\n",
      "tr_oh_labels:  (51000, 10)\n",
      "val_images:  (9000, 28, 28)\n",
      "val_oh_labels:  (9000, 10)\n",
      "test_images:  (10000, 28, 28)\n",
      "test_oh_labels:  (10000, 10)\n"
     ]
    }
   ],
   "source": [
    "(tr_images, tr_oh_labels), (val_images, val_oh_labels), (test_images, test_oh_labels) = \\\n",
    "    get_train_valid_test_set(train_images, train_labels, test_images, test_labels,\n",
    "                             valid_size=0.15, random_state=2023)\n",
    "print(f'tr_images: ', tr_images.shape)\n",
    "print(f'tr_oh_labels: ', tr_oh_labels.shape)\n",
    "print(f'val_images: ', val_images.shape)\n",
    "print(f'val_oh_labels: ', val_oh_labels.shape)\n",
    "print(f'test_images: ', test_images.shape)\n",
    "print(f'test_oh_labels: ', test_oh_labels.shape)"
   ],
   "metadata": {
    "collapsed": false
   }
  },
  {
   "cell_type": "markdown",
   "source": [
    "#### 모델 생성과 compile"
   ],
   "metadata": {
    "collapsed": false
   }
  },
  {
   "cell_type": "code",
   "execution_count": 21,
   "outputs": [
    {
     "name": "stdout",
     "output_type": "stream",
     "text": [
      "Model: \"model\"\n",
      "_________________________________________________________________\n",
      " Layer (type)                Output Shape              Param #   \n",
      "=================================================================\n",
      " input_1 (InputLayer)        [(None, 28, 28)]          0         \n",
      "                                                                 \n",
      " flatten (Flatten)           (None, 784)               0         \n",
      "                                                                 \n",
      " dense (Dense)               (None, 100)               78500     \n",
      "                                                                 \n",
      " dense_1 (Dense)             (None, 30)                3030      \n",
      "                                                                 \n",
      " dense_2 (Dense)             (None, 10)                310       \n",
      "                                                                 \n",
      "=================================================================\n",
      "Total params: 81,840\n",
      "Trainable params: 81,840\n",
      "Non-trainable params: 0\n",
      "_________________________________________________________________\n"
     ]
    }
   ],
   "source": [
    "from tensorflow.keras.optimizers import Adam\n",
    "\n",
    "# model 생성 및 optimizer, loss, metric 적용\n",
    "model = create_model()\n",
    "model.summary()\n",
    "\n",
    "\n",
    "model.compile(optimizer=Adam(0.001), loss='categorical_crossentropy',\n",
    "              metrics=['accuracy'])"
   ],
   "metadata": {
    "collapsed": false
   }
  },
  {
   "cell_type": "code",
   "execution_count": 22,
   "outputs": [
    {
     "data": {
      "image/png": "[encoded data removed]",
      "text/plain": "<IPython.core.display.Image object>"
     },
     "execution_count": 22,
     "metadata": {},
     "output_type": "execute_result"
    }
   ],
   "source": [
    "plot_model(model, show_shapes=True)"
   ],
   "metadata": {
    "collapsed": false
   }
  },
  {
   "cell_type": "markdown",
   "source": [
    "### 학습 수행\n",
    "- tr_images: 학습용이미지(60,000 x 28 x 28), tr_oh_labels"
   ],
   "metadata": {
    "collapsed": false
   }
  },
  {
   "cell_type": "code",
   "execution_count": 23,
   "outputs": [
    {
     "name": "stdout",
     "output_type": "stream",
     "text": [
      "Epoch 1/20\n",
      "399/399 [==============================] - 1s 3ms/step - loss: 3.5499 - accuracy: 0.3678 - val_loss: 1.5042 - val_accuracy: 0.4291\n",
      "Epoch 2/20\n",
      "399/399 [==============================] - 1s 3ms/step - loss: 1.4227 - accuracy: 0.4394 - val_loss: 1.3558 - val_accuracy: 0.4356\n",
      "Epoch 3/20\n",
      "399/399 [==============================] - 1s 2ms/step - loss: 1.3169 - accuracy: 0.4590 - val_loss: 1.2935 - val_accuracy: 0.4612\n",
      "Epoch 4/20\n",
      "399/399 [==============================] - 1s 2ms/step - loss: 1.2592 - accuracy: 0.4695 - val_loss: 1.2160 - val_accuracy: 0.4992\n",
      "Epoch 5/20\n",
      "399/399 [==============================] - 1s 2ms/step - loss: 1.1494 - accuracy: 0.5270 - val_loss: 1.1027 - val_accuracy: 0.5434\n",
      "Epoch 6/20\n",
      "399/399 [==============================] - 1s 2ms/step - loss: 1.0613 - accuracy: 0.5584 - val_loss: 1.0113 - val_accuracy: 0.6110\n",
      "Epoch 7/20\n",
      "399/399 [==============================] - 1s 2ms/step - loss: 0.8494 - accuracy: 0.6690 - val_loss: 0.7866 - val_accuracy: 0.7054\n",
      "Epoch 8/20\n",
      "399/399 [==============================] - 1s 3ms/step - loss: 0.6903 - accuracy: 0.7270 - val_loss: 0.6613 - val_accuracy: 0.7400\n",
      "Epoch 9/20\n",
      "399/399 [==============================] - 1s 3ms/step - loss: 0.6258 - accuracy: 0.7450 - val_loss: 0.6544 - val_accuracy: 0.7433\n",
      "Epoch 10/20\n",
      "399/399 [==============================] - 1s 3ms/step - loss: 0.5991 - accuracy: 0.7535 - val_loss: 0.6238 - val_accuracy: 0.7518\n",
      "Epoch 11/20\n",
      "399/399 [==============================] - 1s 3ms/step - loss: 0.5703 - accuracy: 0.7643 - val_loss: 0.5939 - val_accuracy: 0.7543\n",
      "Epoch 12/20\n",
      "399/399 [==============================] - 1s 2ms/step - loss: 0.5383 - accuracy: 0.7862 - val_loss: 0.5546 - val_accuracy: 0.7917\n",
      "Epoch 13/20\n",
      "399/399 [==============================] - 1s 2ms/step - loss: 0.5083 - accuracy: 0.8083 - val_loss: 0.5386 - val_accuracy: 0.8004\n",
      "Epoch 14/20\n",
      "399/399 [==============================] - 1s 2ms/step - loss: 0.4691 - accuracy: 0.8369 - val_loss: 0.4919 - val_accuracy: 0.8380\n",
      "Epoch 15/20\n",
      "399/399 [==============================] - 1s 2ms/step - loss: 0.4306 - accuracy: 0.8540 - val_loss: 0.4584 - val_accuracy: 0.8462\n",
      "Epoch 16/20\n",
      "399/399 [==============================] - 1s 2ms/step - loss: 0.4004 - accuracy: 0.8607 - val_loss: 0.4522 - val_accuracy: 0.8563\n",
      "Epoch 17/20\n",
      "399/399 [==============================] - 1s 3ms/step - loss: 0.3863 - accuracy: 0.8668 - val_loss: 0.4205 - val_accuracy: 0.8597\n",
      "Epoch 18/20\n",
      "399/399 [==============================] - 1s 3ms/step - loss: 0.3685 - accuracy: 0.8701 - val_loss: 0.4523 - val_accuracy: 0.8522\n",
      "Epoch 19/20\n",
      "399/399 [==============================] - 1s 3ms/step - loss: 0.3622 - accuracy: 0.8730 - val_loss: 0.4475 - val_accuracy: 0.8563\n",
      "Epoch 20/20\n",
      "399/399 [==============================] - 1s 2ms/step - loss: 0.3529 - accuracy: 0.8754 - val_loss: 0.4403 - val_accuracy: 0.8519\n"
     ]
    }
   ],
   "source": [
    "# 여기서 batch_size가 만약 32이면 32 x 28 x28 이 메모리에 들어감.(iteration 1회마다)\n",
    "history = model.fit(x = tr_images, y=tr_oh_labels, batch_size=128, epochs=20,\n",
    "                    validation_data= (val_images, val_oh_labels))"
   ],
   "metadata": {
    "collapsed": false
   }
  },
  {
   "cell_type": "code",
   "execution_count": 24,
   "outputs": [
    {
     "data": {
      "text/plain": "<Figure size 640x480 with 1 Axes>",
      "image/png": "[encoded data removed]"
     },
     "metadata": {},
     "output_type": "display_data"
    }
   ],
   "source": [
    "import matplotlib.pyplot as plt\n",
    "\n",
    "# 그래프 그리기\n",
    "def show_history(history):\n",
    "    plt.plot(history.history['accuracy'], label='train')\n",
    "    plt.plot(history.history['val_accuracy'], label='validation')\n",
    "    plt.legend()\n",
    "show_history(history)"
   ],
   "metadata": {
    "collapsed": false
   }
  },
  {
   "cell_type": "code",
   "execution_count": 26,
   "outputs": [
    {
     "name": "stdout",
     "output_type": "stream",
     "text": [
      "79/79 [==============================] - 0s 4ms/step - loss: 3.9145 - accuracy: 0.1000\n",
      "y_pred: loss값 : 3.9144980907440186\n",
      "y_pred: accuracy값:  0.10000000149011612\n"
     ]
    }
   ],
   "source": [
    "# 테스트 데이터 세트로 모델 성능 검출\n",
    "y_pred = model.evaluate(test_images, test_oh_labels, batch_size=128, verbose=1)\n",
    "print(f'y_pred: loss값 :', y_pred[0])\n",
    "print(f'y_pred: accuracy값: ', y_pred[1])"
   ],
   "metadata": {
    "collapsed": false
   }
  },
  {
   "cell_type": "code",
   "execution_count": null,
   "outputs": [],
   "source": [],
   "metadata": {
    "collapsed": false
   }
  }
 ],
 "metadata": {
  "kernelspec": {
   "display_name": "Python 3",
   "language": "python",
   "name": "python3"
  },
  "language_info": {
   "codemirror_mode": {
    "name": "ipython",
    "version": 2
   },
   "file_extension": ".py",
   "mimetype": "text/x-python",
   "name": "python",
   "nbconvert_exporter": "python",
   "pygments_lexer": "ipython2",
   "version": "2.7.6"
  }
 },
 "nbformat": 4,
 "nbformat_minor": 0
}
